{
    "cells": [
        {
            "cell_type": "markdown",
            "metadata": {
                "collapsed": true
            },
            "source": "# Introduction/Business Problem"
        },
        {
            "cell_type": "markdown",
            "metadata": {},
            "source": "Problem : A person wants to start a sports shop which supplies sports equipment in New York. The main customers of this business will be schools and stadiums in the locality.\n\n"
        },
        {
            "cell_type": "markdown",
            "metadata": {},
            "source": "Where  and how Foursquare is used : Using Foursquare, we can get the list of stadiums and parks in the neighborhood.\n"
        },
        {
            "cell_type": "markdown",
            "metadata": {},
            "source": "Problem solving methodologyy : Using k- means clustering, clusters can be formed with the maximum amount of schools and stadiums within a cluster"
        },
        {
            "cell_type": "markdown",
            "metadata": {},
            "source": "# Data"
        },
        {
            "cell_type": "markdown",
            "metadata": {},
            "source": "1.The New york data set(newyork_data.json) will be used to get the neighborhoods along with the coordinates"
        },
        {
            "cell_type": "markdown",
            "metadata": {},
            "source": "2.Foursquare API can be used to search and get the json files by using query to search for schools and stadiums\n"
        },
        {
            "cell_type": "markdown",
            "metadata": {},
            "source": "eg : To get the list of schools the following URL can be used = 'https://api.foursquare.com/v2/venues/search?client_id={}&client_secret={}&ll={},{}&v={}&query={}&radius={}&limit={}'.format(CLIENT_ID, CLIENT_SECRET, latitude, longitude, VERSION, search_query, radius, LIMIT)"
        },
        {
            "cell_type": "markdown",
            "metadata": {},
            "source": "where query = school"
        },
        {
            "cell_type": "code",
            "execution_count": null,
            "metadata": {},
            "outputs": [],
            "source": ""
        }
    ],
    "metadata": {
        "kernelspec": {
            "display_name": "Python 3.6",
            "language": "python",
            "name": "python3"
        },
        "language_info": {
            "codemirror_mode": {
                "name": "ipython",
                "version": 3
            },
            "file_extension": ".py",
            "mimetype": "text/x-python",
            "name": "python",
            "nbconvert_exporter": "python",
            "pygments_lexer": "ipython3",
            "version": "3.6.9"
        }
    },
    "nbformat": 4,
    "nbformat_minor": 1
}